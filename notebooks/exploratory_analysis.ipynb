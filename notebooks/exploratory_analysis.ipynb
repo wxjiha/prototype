{
 "cells": [
  {
   "cell_type": "code",
   "execution_count": null,
   "metadata": {},
   "outputs": [],
   "source": [
    "# Example Notebook Code\n",
    "import pandas as pd\n",
    "import seaborn as sns\n",
    "import matplotlib.pyplot as plt\n",
    "\n",
    "data = pd.read_csv(\"../data/creditcard.csv\")\n",
    "\n",
    "# Check class distribution\n",
    "sns.countplot(x='Class', data=data)\n",
    "plt.title(\"Fraud vs Legitimate Transactions\")\n",
    "plt.show()\n"
   ]
  }
 ],
 "metadata": {
  "language_info": {
   "name": "python"
  }
 },
 "nbformat": 4,
 "nbformat_minor": 2
}
